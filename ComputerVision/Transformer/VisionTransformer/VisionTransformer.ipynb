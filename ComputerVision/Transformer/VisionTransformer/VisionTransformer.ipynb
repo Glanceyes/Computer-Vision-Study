{
  "nbformat": 4,
  "nbformat_minor": 0,
  "metadata": {
    "colab": {
      "provenance": []
    },
    "kernelspec": {
      "name": "python3",
      "display_name": "Python 3"
    },
    "language_info": {
      "name": "python"
    },
    "widgets": {
      "application/vnd.jupyter.widget-state+json": {
        "dcbc0d407cb94a58a5923f3b21a80299": {
          "model_module": "@jupyter-widgets/controls",
          "model_name": "HBoxModel",
          "model_module_version": "1.5.0",
          "state": {
            "_dom_classes": [],
            "_model_module": "@jupyter-widgets/controls",
            "_model_module_version": "1.5.0",
            "_model_name": "HBoxModel",
            "_view_count": null,
            "_view_module": "@jupyter-widgets/controls",
            "_view_module_version": "1.5.0",
            "_view_name": "HBoxView",
            "box_style": "",
            "children": [
              "IPY_MODEL_5ea0d7aa6edf47d8a00d671cddb38aa2",
              "IPY_MODEL_fe07da9760ff41ceaa9568f649f07a46",
              "IPY_MODEL_037c67a5d6484843a54c3c4702dd3636"
            ],
            "layout": "IPY_MODEL_78ab2e36934d44a088b11d29d21cb26a"
          }
        },
        "5ea0d7aa6edf47d8a00d671cddb38aa2": {
          "model_module": "@jupyter-widgets/controls",
          "model_name": "HTMLModel",
          "model_module_version": "1.5.0",
          "state": {
            "_dom_classes": [],
            "_model_module": "@jupyter-widgets/controls",
            "_model_module_version": "1.5.0",
            "_model_name": "HTMLModel",
            "_view_count": null,
            "_view_module": "@jupyter-widgets/controls",
            "_view_module_version": "1.5.0",
            "_view_name": "HTMLView",
            "description": "",
            "description_tooltip": null,
            "layout": "IPY_MODEL_32b446ef28b049439f784ec3080da73d",
            "placeholder": "​",
            "style": "IPY_MODEL_38d105f0208c485f9fbcfcb0cf77a131",
            "value": "100%"
          }
        },
        "fe07da9760ff41ceaa9568f649f07a46": {
          "model_module": "@jupyter-widgets/controls",
          "model_name": "FloatProgressModel",
          "model_module_version": "1.5.0",
          "state": {
            "_dom_classes": [],
            "_model_module": "@jupyter-widgets/controls",
            "_model_module_version": "1.5.0",
            "_model_name": "FloatProgressModel",
            "_view_count": null,
            "_view_module": "@jupyter-widgets/controls",
            "_view_module_version": "1.5.0",
            "_view_name": "ProgressView",
            "bar_style": "success",
            "description": "",
            "description_tooltip": null,
            "layout": "IPY_MODEL_a7583a259acd4434bfa85cd3e712f3a3",
            "max": 9912422,
            "min": 0,
            "orientation": "horizontal",
            "style": "IPY_MODEL_699f67c81b58451f9abe0f557bb308ef",
            "value": 9912422
          }
        },
        "037c67a5d6484843a54c3c4702dd3636": {
          "model_module": "@jupyter-widgets/controls",
          "model_name": "HTMLModel",
          "model_module_version": "1.5.0",
          "state": {
            "_dom_classes": [],
            "_model_module": "@jupyter-widgets/controls",
            "_model_module_version": "1.5.0",
            "_model_name": "HTMLModel",
            "_view_count": null,
            "_view_module": "@jupyter-widgets/controls",
            "_view_module_version": "1.5.0",
            "_view_name": "HTMLView",
            "description": "",
            "description_tooltip": null,
            "layout": "IPY_MODEL_88affa041ceb4d6fad290eccbee34e20",
            "placeholder": "​",
            "style": "IPY_MODEL_9259c864c1364139bb71d561249af451",
            "value": " 9912422/9912422 [00:00&lt;00:00, 36974365.93it/s]"
          }
        },
        "78ab2e36934d44a088b11d29d21cb26a": {
          "model_module": "@jupyter-widgets/base",
          "model_name": "LayoutModel",
          "model_module_version": "1.2.0",
          "state": {
            "_model_module": "@jupyter-widgets/base",
            "_model_module_version": "1.2.0",
            "_model_name": "LayoutModel",
            "_view_count": null,
            "_view_module": "@jupyter-widgets/base",
            "_view_module_version": "1.2.0",
            "_view_name": "LayoutView",
            "align_content": null,
            "align_items": null,
            "align_self": null,
            "border": null,
            "bottom": null,
            "display": null,
            "flex": null,
            "flex_flow": null,
            "grid_area": null,
            "grid_auto_columns": null,
            "grid_auto_flow": null,
            "grid_auto_rows": null,
            "grid_column": null,
            "grid_gap": null,
            "grid_row": null,
            "grid_template_areas": null,
            "grid_template_columns": null,
            "grid_template_rows": null,
            "height": null,
            "justify_content": null,
            "justify_items": null,
            "left": null,
            "margin": null,
            "max_height": null,
            "max_width": null,
            "min_height": null,
            "min_width": null,
            "object_fit": null,
            "object_position": null,
            "order": null,
            "overflow": null,
            "overflow_x": null,
            "overflow_y": null,
            "padding": null,
            "right": null,
            "top": null,
            "visibility": null,
            "width": null
          }
        },
        "32b446ef28b049439f784ec3080da73d": {
          "model_module": "@jupyter-widgets/base",
          "model_name": "LayoutModel",
          "model_module_version": "1.2.0",
          "state": {
            "_model_module": "@jupyter-widgets/base",
            "_model_module_version": "1.2.0",
            "_model_name": "LayoutModel",
            "_view_count": null,
            "_view_module": "@jupyter-widgets/base",
            "_view_module_version": "1.2.0",
            "_view_name": "LayoutView",
            "align_content": null,
            "align_items": null,
            "align_self": null,
            "border": null,
            "bottom": null,
            "display": null,
            "flex": null,
            "flex_flow": null,
            "grid_area": null,
            "grid_auto_columns": null,
            "grid_auto_flow": null,
            "grid_auto_rows": null,
            "grid_column": null,
            "grid_gap": null,
            "grid_row": null,
            "grid_template_areas": null,
            "grid_template_columns": null,
            "grid_template_rows": null,
            "height": null,
            "justify_content": null,
            "justify_items": null,
            "left": null,
            "margin": null,
            "max_height": null,
            "max_width": null,
            "min_height": null,
            "min_width": null,
            "object_fit": null,
            "object_position": null,
            "order": null,
            "overflow": null,
            "overflow_x": null,
            "overflow_y": null,
            "padding": null,
            "right": null,
            "top": null,
            "visibility": null,
            "width": null
          }
        },
        "38d105f0208c485f9fbcfcb0cf77a131": {
          "model_module": "@jupyter-widgets/controls",
          "model_name": "DescriptionStyleModel",
          "model_module_version": "1.5.0",
          "state": {
            "_model_module": "@jupyter-widgets/controls",
            "_model_module_version": "1.5.0",
            "_model_name": "DescriptionStyleModel",
            "_view_count": null,
            "_view_module": "@jupyter-widgets/base",
            "_view_module_version": "1.2.0",
            "_view_name": "StyleView",
            "description_width": ""
          }
        },
        "a7583a259acd4434bfa85cd3e712f3a3": {
          "model_module": "@jupyter-widgets/base",
          "model_name": "LayoutModel",
          "model_module_version": "1.2.0",
          "state": {
            "_model_module": "@jupyter-widgets/base",
            "_model_module_version": "1.2.0",
            "_model_name": "LayoutModel",
            "_view_count": null,
            "_view_module": "@jupyter-widgets/base",
            "_view_module_version": "1.2.0",
            "_view_name": "LayoutView",
            "align_content": null,
            "align_items": null,
            "align_self": null,
            "border": null,
            "bottom": null,
            "display": null,
            "flex": null,
            "flex_flow": null,
            "grid_area": null,
            "grid_auto_columns": null,
            "grid_auto_flow": null,
            "grid_auto_rows": null,
            "grid_column": null,
            "grid_gap": null,
            "grid_row": null,
            "grid_template_areas": null,
            "grid_template_columns": null,
            "grid_template_rows": null,
            "height": null,
            "justify_content": null,
            "justify_items": null,
            "left": null,
            "margin": null,
            "max_height": null,
            "max_width": null,
            "min_height": null,
            "min_width": null,
            "object_fit": null,
            "object_position": null,
            "order": null,
            "overflow": null,
            "overflow_x": null,
            "overflow_y": null,
            "padding": null,
            "right": null,
            "top": null,
            "visibility": null,
            "width": null
          }
        },
        "699f67c81b58451f9abe0f557bb308ef": {
          "model_module": "@jupyter-widgets/controls",
          "model_name": "ProgressStyleModel",
          "model_module_version": "1.5.0",
          "state": {
            "_model_module": "@jupyter-widgets/controls",
            "_model_module_version": "1.5.0",
            "_model_name": "ProgressStyleModel",
            "_view_count": null,
            "_view_module": "@jupyter-widgets/base",
            "_view_module_version": "1.2.0",
            "_view_name": "StyleView",
            "bar_color": null,
            "description_width": ""
          }
        },
        "88affa041ceb4d6fad290eccbee34e20": {
          "model_module": "@jupyter-widgets/base",
          "model_name": "LayoutModel",
          "model_module_version": "1.2.0",
          "state": {
            "_model_module": "@jupyter-widgets/base",
            "_model_module_version": "1.2.0",
            "_model_name": "LayoutModel",
            "_view_count": null,
            "_view_module": "@jupyter-widgets/base",
            "_view_module_version": "1.2.0",
            "_view_name": "LayoutView",
            "align_content": null,
            "align_items": null,
            "align_self": null,
            "border": null,
            "bottom": null,
            "display": null,
            "flex": null,
            "flex_flow": null,
            "grid_area": null,
            "grid_auto_columns": null,
            "grid_auto_flow": null,
            "grid_auto_rows": null,
            "grid_column": null,
            "grid_gap": null,
            "grid_row": null,
            "grid_template_areas": null,
            "grid_template_columns": null,
            "grid_template_rows": null,
            "height": null,
            "justify_content": null,
            "justify_items": null,
            "left": null,
            "margin": null,
            "max_height": null,
            "max_width": null,
            "min_height": null,
            "min_width": null,
            "object_fit": null,
            "object_position": null,
            "order": null,
            "overflow": null,
            "overflow_x": null,
            "overflow_y": null,
            "padding": null,
            "right": null,
            "top": null,
            "visibility": null,
            "width": null
          }
        },
        "9259c864c1364139bb71d561249af451": {
          "model_module": "@jupyter-widgets/controls",
          "model_name": "DescriptionStyleModel",
          "model_module_version": "1.5.0",
          "state": {
            "_model_module": "@jupyter-widgets/controls",
            "_model_module_version": "1.5.0",
            "_model_name": "DescriptionStyleModel",
            "_view_count": null,
            "_view_module": "@jupyter-widgets/base",
            "_view_module_version": "1.2.0",
            "_view_name": "StyleView",
            "description_width": ""
          }
        },
        "b7f7a9076159422da661bf18c4aa5d53": {
          "model_module": "@jupyter-widgets/controls",
          "model_name": "HBoxModel",
          "model_module_version": "1.5.0",
          "state": {
            "_dom_classes": [],
            "_model_module": "@jupyter-widgets/controls",
            "_model_module_version": "1.5.0",
            "_model_name": "HBoxModel",
            "_view_count": null,
            "_view_module": "@jupyter-widgets/controls",
            "_view_module_version": "1.5.0",
            "_view_name": "HBoxView",
            "box_style": "",
            "children": [
              "IPY_MODEL_791cde0e9f774639ae3a6621b2f0d29f",
              "IPY_MODEL_f6513e9080964ce094721a5f94612a45",
              "IPY_MODEL_eacbe7e90f144b2fbf40188539224837"
            ],
            "layout": "IPY_MODEL_701d28c90dae4d9bbbf269a0577375e8"
          }
        },
        "791cde0e9f774639ae3a6621b2f0d29f": {
          "model_module": "@jupyter-widgets/controls",
          "model_name": "HTMLModel",
          "model_module_version": "1.5.0",
          "state": {
            "_dom_classes": [],
            "_model_module": "@jupyter-widgets/controls",
            "_model_module_version": "1.5.0",
            "_model_name": "HTMLModel",
            "_view_count": null,
            "_view_module": "@jupyter-widgets/controls",
            "_view_module_version": "1.5.0",
            "_view_name": "HTMLView",
            "description": "",
            "description_tooltip": null,
            "layout": "IPY_MODEL_0a1881fcb338409e9638843b456be5c2",
            "placeholder": "​",
            "style": "IPY_MODEL_cf83c6c967884d82981a1876d4edfc5e",
            "value": "100%"
          }
        },
        "f6513e9080964ce094721a5f94612a45": {
          "model_module": "@jupyter-widgets/controls",
          "model_name": "FloatProgressModel",
          "model_module_version": "1.5.0",
          "state": {
            "_dom_classes": [],
            "_model_module": "@jupyter-widgets/controls",
            "_model_module_version": "1.5.0",
            "_model_name": "FloatProgressModel",
            "_view_count": null,
            "_view_module": "@jupyter-widgets/controls",
            "_view_module_version": "1.5.0",
            "_view_name": "ProgressView",
            "bar_style": "success",
            "description": "",
            "description_tooltip": null,
            "layout": "IPY_MODEL_904d6be13c69480b837333a0585cadd6",
            "max": 28881,
            "min": 0,
            "orientation": "horizontal",
            "style": "IPY_MODEL_be98446e049e4d8a92be393aa38a80bf",
            "value": 28881
          }
        },
        "eacbe7e90f144b2fbf40188539224837": {
          "model_module": "@jupyter-widgets/controls",
          "model_name": "HTMLModel",
          "model_module_version": "1.5.0",
          "state": {
            "_dom_classes": [],
            "_model_module": "@jupyter-widgets/controls",
            "_model_module_version": "1.5.0",
            "_model_name": "HTMLModel",
            "_view_count": null,
            "_view_module": "@jupyter-widgets/controls",
            "_view_module_version": "1.5.0",
            "_view_name": "HTMLView",
            "description": "",
            "description_tooltip": null,
            "layout": "IPY_MODEL_48e3ac7cbd944175b5e0d3e420ef4879",
            "placeholder": "​",
            "style": "IPY_MODEL_33d83f9f15a54c338334e5c7c3989f15",
            "value": " 28881/28881 [00:00&lt;00:00, 1177755.57it/s]"
          }
        },
        "701d28c90dae4d9bbbf269a0577375e8": {
          "model_module": "@jupyter-widgets/base",
          "model_name": "LayoutModel",
          "model_module_version": "1.2.0",
          "state": {
            "_model_module": "@jupyter-widgets/base",
            "_model_module_version": "1.2.0",
            "_model_name": "LayoutModel",
            "_view_count": null,
            "_view_module": "@jupyter-widgets/base",
            "_view_module_version": "1.2.0",
            "_view_name": "LayoutView",
            "align_content": null,
            "align_items": null,
            "align_self": null,
            "border": null,
            "bottom": null,
            "display": null,
            "flex": null,
            "flex_flow": null,
            "grid_area": null,
            "grid_auto_columns": null,
            "grid_auto_flow": null,
            "grid_auto_rows": null,
            "grid_column": null,
            "grid_gap": null,
            "grid_row": null,
            "grid_template_areas": null,
            "grid_template_columns": null,
            "grid_template_rows": null,
            "height": null,
            "justify_content": null,
            "justify_items": null,
            "left": null,
            "margin": null,
            "max_height": null,
            "max_width": null,
            "min_height": null,
            "min_width": null,
            "object_fit": null,
            "object_position": null,
            "order": null,
            "overflow": null,
            "overflow_x": null,
            "overflow_y": null,
            "padding": null,
            "right": null,
            "top": null,
            "visibility": null,
            "width": null
          }
        },
        "0a1881fcb338409e9638843b456be5c2": {
          "model_module": "@jupyter-widgets/base",
          "model_name": "LayoutModel",
          "model_module_version": "1.2.0",
          "state": {
            "_model_module": "@jupyter-widgets/base",
            "_model_module_version": "1.2.0",
            "_model_name": "LayoutModel",
            "_view_count": null,
            "_view_module": "@jupyter-widgets/base",
            "_view_module_version": "1.2.0",
            "_view_name": "LayoutView",
            "align_content": null,
            "align_items": null,
            "align_self": null,
            "border": null,
            "bottom": null,
            "display": null,
            "flex": null,
            "flex_flow": null,
            "grid_area": null,
            "grid_auto_columns": null,
            "grid_auto_flow": null,
            "grid_auto_rows": null,
            "grid_column": null,
            "grid_gap": null,
            "grid_row": null,
            "grid_template_areas": null,
            "grid_template_columns": null,
            "grid_template_rows": null,
            "height": null,
            "justify_content": null,
            "justify_items": null,
            "left": null,
            "margin": null,
            "max_height": null,
            "max_width": null,
            "min_height": null,
            "min_width": null,
            "object_fit": null,
            "object_position": null,
            "order": null,
            "overflow": null,
            "overflow_x": null,
            "overflow_y": null,
            "padding": null,
            "right": null,
            "top": null,
            "visibility": null,
            "width": null
          }
        },
        "cf83c6c967884d82981a1876d4edfc5e": {
          "model_module": "@jupyter-widgets/controls",
          "model_name": "DescriptionStyleModel",
          "model_module_version": "1.5.0",
          "state": {
            "_model_module": "@jupyter-widgets/controls",
            "_model_module_version": "1.5.0",
            "_model_name": "DescriptionStyleModel",
            "_view_count": null,
            "_view_module": "@jupyter-widgets/base",
            "_view_module_version": "1.2.0",
            "_view_name": "StyleView",
            "description_width": ""
          }
        },
        "904d6be13c69480b837333a0585cadd6": {
          "model_module": "@jupyter-widgets/base",
          "model_name": "LayoutModel",
          "model_module_version": "1.2.0",
          "state": {
            "_model_module": "@jupyter-widgets/base",
            "_model_module_version": "1.2.0",
            "_model_name": "LayoutModel",
            "_view_count": null,
            "_view_module": "@jupyter-widgets/base",
            "_view_module_version": "1.2.0",
            "_view_name": "LayoutView",
            "align_content": null,
            "align_items": null,
            "align_self": null,
            "border": null,
            "bottom": null,
            "display": null,
            "flex": null,
            "flex_flow": null,
            "grid_area": null,
            "grid_auto_columns": null,
            "grid_auto_flow": null,
            "grid_auto_rows": null,
            "grid_column": null,
            "grid_gap": null,
            "grid_row": null,
            "grid_template_areas": null,
            "grid_template_columns": null,
            "grid_template_rows": null,
            "height": null,
            "justify_content": null,
            "justify_items": null,
            "left": null,
            "margin": null,
            "max_height": null,
            "max_width": null,
            "min_height": null,
            "min_width": null,
            "object_fit": null,
            "object_position": null,
            "order": null,
            "overflow": null,
            "overflow_x": null,
            "overflow_y": null,
            "padding": null,
            "right": null,
            "top": null,
            "visibility": null,
            "width": null
          }
        },
        "be98446e049e4d8a92be393aa38a80bf": {
          "model_module": "@jupyter-widgets/controls",
          "model_name": "ProgressStyleModel",
          "model_module_version": "1.5.0",
          "state": {
            "_model_module": "@jupyter-widgets/controls",
            "_model_module_version": "1.5.0",
            "_model_name": "ProgressStyleModel",
            "_view_count": null,
            "_view_module": "@jupyter-widgets/base",
            "_view_module_version": "1.2.0",
            "_view_name": "StyleView",
            "bar_color": null,
            "description_width": ""
          }
        },
        "48e3ac7cbd944175b5e0d3e420ef4879": {
          "model_module": "@jupyter-widgets/base",
          "model_name": "LayoutModel",
          "model_module_version": "1.2.0",
          "state": {
            "_model_module": "@jupyter-widgets/base",
            "_model_module_version": "1.2.0",
            "_model_name": "LayoutModel",
            "_view_count": null,
            "_view_module": "@jupyter-widgets/base",
            "_view_module_version": "1.2.0",
            "_view_name": "LayoutView",
            "align_content": null,
            "align_items": null,
            "align_self": null,
            "border": null,
            "bottom": null,
            "display": null,
            "flex": null,
            "flex_flow": null,
            "grid_area": null,
            "grid_auto_columns": null,
            "grid_auto_flow": null,
            "grid_auto_rows": null,
            "grid_column": null,
            "grid_gap": null,
            "grid_row": null,
            "grid_template_areas": null,
            "grid_template_columns": null,
            "grid_template_rows": null,
            "height": null,
            "justify_content": null,
            "justify_items": null,
            "left": null,
            "margin": null,
            "max_height": null,
            "max_width": null,
            "min_height": null,
            "min_width": null,
            "object_fit": null,
            "object_position": null,
            "order": null,
            "overflow": null,
            "overflow_x": null,
            "overflow_y": null,
            "padding": null,
            "right": null,
            "top": null,
            "visibility": null,
            "width": null
          }
        },
        "33d83f9f15a54c338334e5c7c3989f15": {
          "model_module": "@jupyter-widgets/controls",
          "model_name": "DescriptionStyleModel",
          "model_module_version": "1.5.0",
          "state": {
            "_model_module": "@jupyter-widgets/controls",
            "_model_module_version": "1.5.0",
            "_model_name": "DescriptionStyleModel",
            "_view_count": null,
            "_view_module": "@jupyter-widgets/base",
            "_view_module_version": "1.2.0",
            "_view_name": "StyleView",
            "description_width": ""
          }
        },
        "37838d905c2b4edd90537d8c563782b3": {
          "model_module": "@jupyter-widgets/controls",
          "model_name": "HBoxModel",
          "model_module_version": "1.5.0",
          "state": {
            "_dom_classes": [],
            "_model_module": "@jupyter-widgets/controls",
            "_model_module_version": "1.5.0",
            "_model_name": "HBoxModel",
            "_view_count": null,
            "_view_module": "@jupyter-widgets/controls",
            "_view_module_version": "1.5.0",
            "_view_name": "HBoxView",
            "box_style": "",
            "children": [
              "IPY_MODEL_cfd0648cb2de414bafaac40c8f0dfde3",
              "IPY_MODEL_cc4e16fcf7eb4720af6bad8b73daa08b",
              "IPY_MODEL_e9f393c2a5354fc6b73c6cacdd16a43d"
            ],
            "layout": "IPY_MODEL_8d72ac4a85a748df825e44f190a02f1e"
          }
        },
        "cfd0648cb2de414bafaac40c8f0dfde3": {
          "model_module": "@jupyter-widgets/controls",
          "model_name": "HTMLModel",
          "model_module_version": "1.5.0",
          "state": {
            "_dom_classes": [],
            "_model_module": "@jupyter-widgets/controls",
            "_model_module_version": "1.5.0",
            "_model_name": "HTMLModel",
            "_view_count": null,
            "_view_module": "@jupyter-widgets/controls",
            "_view_module_version": "1.5.0",
            "_view_name": "HTMLView",
            "description": "",
            "description_tooltip": null,
            "layout": "IPY_MODEL_35c8393723a14aa68413115b7d15e673",
            "placeholder": "​",
            "style": "IPY_MODEL_89614707977247e8b4a3b9386b221638",
            "value": "100%"
          }
        },
        "cc4e16fcf7eb4720af6bad8b73daa08b": {
          "model_module": "@jupyter-widgets/controls",
          "model_name": "FloatProgressModel",
          "model_module_version": "1.5.0",
          "state": {
            "_dom_classes": [],
            "_model_module": "@jupyter-widgets/controls",
            "_model_module_version": "1.5.0",
            "_model_name": "FloatProgressModel",
            "_view_count": null,
            "_view_module": "@jupyter-widgets/controls",
            "_view_module_version": "1.5.0",
            "_view_name": "ProgressView",
            "bar_style": "success",
            "description": "",
            "description_tooltip": null,
            "layout": "IPY_MODEL_8d729c655361485284fbb7748e47bc8b",
            "max": 1648877,
            "min": 0,
            "orientation": "horizontal",
            "style": "IPY_MODEL_31549e8a9c614e8ca88608f403c3d8de",
            "value": 1648877
          }
        },
        "e9f393c2a5354fc6b73c6cacdd16a43d": {
          "model_module": "@jupyter-widgets/controls",
          "model_name": "HTMLModel",
          "model_module_version": "1.5.0",
          "state": {
            "_dom_classes": [],
            "_model_module": "@jupyter-widgets/controls",
            "_model_module_version": "1.5.0",
            "_model_name": "HTMLModel",
            "_view_count": null,
            "_view_module": "@jupyter-widgets/controls",
            "_view_module_version": "1.5.0",
            "_view_name": "HTMLView",
            "description": "",
            "description_tooltip": null,
            "layout": "IPY_MODEL_72807ba432584410a39e815c6fa0598b",
            "placeholder": "​",
            "style": "IPY_MODEL_a086d27bf9fd4de2a23f92e674f1f398",
            "value": " 1648877/1648877 [00:00&lt;00:00, 38886966.23it/s]"
          }
        },
        "8d72ac4a85a748df825e44f190a02f1e": {
          "model_module": "@jupyter-widgets/base",
          "model_name": "LayoutModel",
          "model_module_version": "1.2.0",
          "state": {
            "_model_module": "@jupyter-widgets/base",
            "_model_module_version": "1.2.0",
            "_model_name": "LayoutModel",
            "_view_count": null,
            "_view_module": "@jupyter-widgets/base",
            "_view_module_version": "1.2.0",
            "_view_name": "LayoutView",
            "align_content": null,
            "align_items": null,
            "align_self": null,
            "border": null,
            "bottom": null,
            "display": null,
            "flex": null,
            "flex_flow": null,
            "grid_area": null,
            "grid_auto_columns": null,
            "grid_auto_flow": null,
            "grid_auto_rows": null,
            "grid_column": null,
            "grid_gap": null,
            "grid_row": null,
            "grid_template_areas": null,
            "grid_template_columns": null,
            "grid_template_rows": null,
            "height": null,
            "justify_content": null,
            "justify_items": null,
            "left": null,
            "margin": null,
            "max_height": null,
            "max_width": null,
            "min_height": null,
            "min_width": null,
            "object_fit": null,
            "object_position": null,
            "order": null,
            "overflow": null,
            "overflow_x": null,
            "overflow_y": null,
            "padding": null,
            "right": null,
            "top": null,
            "visibility": null,
            "width": null
          }
        },
        "35c8393723a14aa68413115b7d15e673": {
          "model_module": "@jupyter-widgets/base",
          "model_name": "LayoutModel",
          "model_module_version": "1.2.0",
          "state": {
            "_model_module": "@jupyter-widgets/base",
            "_model_module_version": "1.2.0",
            "_model_name": "LayoutModel",
            "_view_count": null,
            "_view_module": "@jupyter-widgets/base",
            "_view_module_version": "1.2.0",
            "_view_name": "LayoutView",
            "align_content": null,
            "align_items": null,
            "align_self": null,
            "border": null,
            "bottom": null,
            "display": null,
            "flex": null,
            "flex_flow": null,
            "grid_area": null,
            "grid_auto_columns": null,
            "grid_auto_flow": null,
            "grid_auto_rows": null,
            "grid_column": null,
            "grid_gap": null,
            "grid_row": null,
            "grid_template_areas": null,
            "grid_template_columns": null,
            "grid_template_rows": null,
            "height": null,
            "justify_content": null,
            "justify_items": null,
            "left": null,
            "margin": null,
            "max_height": null,
            "max_width": null,
            "min_height": null,
            "min_width": null,
            "object_fit": null,
            "object_position": null,
            "order": null,
            "overflow": null,
            "overflow_x": null,
            "overflow_y": null,
            "padding": null,
            "right": null,
            "top": null,
            "visibility": null,
            "width": null
          }
        },
        "89614707977247e8b4a3b9386b221638": {
          "model_module": "@jupyter-widgets/controls",
          "model_name": "DescriptionStyleModel",
          "model_module_version": "1.5.0",
          "state": {
            "_model_module": "@jupyter-widgets/controls",
            "_model_module_version": "1.5.0",
            "_model_name": "DescriptionStyleModel",
            "_view_count": null,
            "_view_module": "@jupyter-widgets/base",
            "_view_module_version": "1.2.0",
            "_view_name": "StyleView",
            "description_width": ""
          }
        },
        "8d729c655361485284fbb7748e47bc8b": {
          "model_module": "@jupyter-widgets/base",
          "model_name": "LayoutModel",
          "model_module_version": "1.2.0",
          "state": {
            "_model_module": "@jupyter-widgets/base",
            "_model_module_version": "1.2.0",
            "_model_name": "LayoutModel",
            "_view_count": null,
            "_view_module": "@jupyter-widgets/base",
            "_view_module_version": "1.2.0",
            "_view_name": "LayoutView",
            "align_content": null,
            "align_items": null,
            "align_self": null,
            "border": null,
            "bottom": null,
            "display": null,
            "flex": null,
            "flex_flow": null,
            "grid_area": null,
            "grid_auto_columns": null,
            "grid_auto_flow": null,
            "grid_auto_rows": null,
            "grid_column": null,
            "grid_gap": null,
            "grid_row": null,
            "grid_template_areas": null,
            "grid_template_columns": null,
            "grid_template_rows": null,
            "height": null,
            "justify_content": null,
            "justify_items": null,
            "left": null,
            "margin": null,
            "max_height": null,
            "max_width": null,
            "min_height": null,
            "min_width": null,
            "object_fit": null,
            "object_position": null,
            "order": null,
            "overflow": null,
            "overflow_x": null,
            "overflow_y": null,
            "padding": null,
            "right": null,
            "top": null,
            "visibility": null,
            "width": null
          }
        },
        "31549e8a9c614e8ca88608f403c3d8de": {
          "model_module": "@jupyter-widgets/controls",
          "model_name": "ProgressStyleModel",
          "model_module_version": "1.5.0",
          "state": {
            "_model_module": "@jupyter-widgets/controls",
            "_model_module_version": "1.5.0",
            "_model_name": "ProgressStyleModel",
            "_view_count": null,
            "_view_module": "@jupyter-widgets/base",
            "_view_module_version": "1.2.0",
            "_view_name": "StyleView",
            "bar_color": null,
            "description_width": ""
          }
        },
        "72807ba432584410a39e815c6fa0598b": {
          "model_module": "@jupyter-widgets/base",
          "model_name": "LayoutModel",
          "model_module_version": "1.2.0",
          "state": {
            "_model_module": "@jupyter-widgets/base",
            "_model_module_version": "1.2.0",
            "_model_name": "LayoutModel",
            "_view_count": null,
            "_view_module": "@jupyter-widgets/base",
            "_view_module_version": "1.2.0",
            "_view_name": "LayoutView",
            "align_content": null,
            "align_items": null,
            "align_self": null,
            "border": null,
            "bottom": null,
            "display": null,
            "flex": null,
            "flex_flow": null,
            "grid_area": null,
            "grid_auto_columns": null,
            "grid_auto_flow": null,
            "grid_auto_rows": null,
            "grid_column": null,
            "grid_gap": null,
            "grid_row": null,
            "grid_template_areas": null,
            "grid_template_columns": null,
            "grid_template_rows": null,
            "height": null,
            "justify_content": null,
            "justify_items": null,
            "left": null,
            "margin": null,
            "max_height": null,
            "max_width": null,
            "min_height": null,
            "min_width": null,
            "object_fit": null,
            "object_position": null,
            "order": null,
            "overflow": null,
            "overflow_x": null,
            "overflow_y": null,
            "padding": null,
            "right": null,
            "top": null,
            "visibility": null,
            "width": null
          }
        },
        "a086d27bf9fd4de2a23f92e674f1f398": {
          "model_module": "@jupyter-widgets/controls",
          "model_name": "DescriptionStyleModel",
          "model_module_version": "1.5.0",
          "state": {
            "_model_module": "@jupyter-widgets/controls",
            "_model_module_version": "1.5.0",
            "_model_name": "DescriptionStyleModel",
            "_view_count": null,
            "_view_module": "@jupyter-widgets/base",
            "_view_module_version": "1.2.0",
            "_view_name": "StyleView",
            "description_width": ""
          }
        },
        "6fc3ebb36e2743a7805ad40205a7ed12": {
          "model_module": "@jupyter-widgets/controls",
          "model_name": "HBoxModel",
          "model_module_version": "1.5.0",
          "state": {
            "_dom_classes": [],
            "_model_module": "@jupyter-widgets/controls",
            "_model_module_version": "1.5.0",
            "_model_name": "HBoxModel",
            "_view_count": null,
            "_view_module": "@jupyter-widgets/controls",
            "_view_module_version": "1.5.0",
            "_view_name": "HBoxView",
            "box_style": "",
            "children": [
              "IPY_MODEL_cf92833d6b3c4a21a2621c696a985f4a",
              "IPY_MODEL_b2e310aee60a43788fca8b3bc6c0942e",
              "IPY_MODEL_7602c0348cc945708ad38d78b6934d51"
            ],
            "layout": "IPY_MODEL_19427a4b7d494228901dab15671fce81"
          }
        },
        "cf92833d6b3c4a21a2621c696a985f4a": {
          "model_module": "@jupyter-widgets/controls",
          "model_name": "HTMLModel",
          "model_module_version": "1.5.0",
          "state": {
            "_dom_classes": [],
            "_model_module": "@jupyter-widgets/controls",
            "_model_module_version": "1.5.0",
            "_model_name": "HTMLModel",
            "_view_count": null,
            "_view_module": "@jupyter-widgets/controls",
            "_view_module_version": "1.5.0",
            "_view_name": "HTMLView",
            "description": "",
            "description_tooltip": null,
            "layout": "IPY_MODEL_e20585de88104099bb3e506e68316337",
            "placeholder": "​",
            "style": "IPY_MODEL_46a11c5b7e8f451c9a577cd3512ced9a",
            "value": "100%"
          }
        },
        "b2e310aee60a43788fca8b3bc6c0942e": {
          "model_module": "@jupyter-widgets/controls",
          "model_name": "FloatProgressModel",
          "model_module_version": "1.5.0",
          "state": {
            "_dom_classes": [],
            "_model_module": "@jupyter-widgets/controls",
            "_model_module_version": "1.5.0",
            "_model_name": "FloatProgressModel",
            "_view_count": null,
            "_view_module": "@jupyter-widgets/controls",
            "_view_module_version": "1.5.0",
            "_view_name": "ProgressView",
            "bar_style": "success",
            "description": "",
            "description_tooltip": null,
            "layout": "IPY_MODEL_61d8ea9f07724c04a6245b01fc4cdeae",
            "max": 4542,
            "min": 0,
            "orientation": "horizontal",
            "style": "IPY_MODEL_02fd99158b0b4c5aaf76aa6af389fed4",
            "value": 4542
          }
        },
        "7602c0348cc945708ad38d78b6934d51": {
          "model_module": "@jupyter-widgets/controls",
          "model_name": "HTMLModel",
          "model_module_version": "1.5.0",
          "state": {
            "_dom_classes": [],
            "_model_module": "@jupyter-widgets/controls",
            "_model_module_version": "1.5.0",
            "_model_name": "HTMLModel",
            "_view_count": null,
            "_view_module": "@jupyter-widgets/controls",
            "_view_module_version": "1.5.0",
            "_view_name": "HTMLView",
            "description": "",
            "description_tooltip": null,
            "layout": "IPY_MODEL_f2341ad9dc834156a38548d130c678a6",
            "placeholder": "​",
            "style": "IPY_MODEL_037aa090fefb4b439bcf1fd5ec23a336",
            "value": " 4542/4542 [00:00&lt;00:00, 111785.10it/s]"
          }
        },
        "19427a4b7d494228901dab15671fce81": {
          "model_module": "@jupyter-widgets/base",
          "model_name": "LayoutModel",
          "model_module_version": "1.2.0",
          "state": {
            "_model_module": "@jupyter-widgets/base",
            "_model_module_version": "1.2.0",
            "_model_name": "LayoutModel",
            "_view_count": null,
            "_view_module": "@jupyter-widgets/base",
            "_view_module_version": "1.2.0",
            "_view_name": "LayoutView",
            "align_content": null,
            "align_items": null,
            "align_self": null,
            "border": null,
            "bottom": null,
            "display": null,
            "flex": null,
            "flex_flow": null,
            "grid_area": null,
            "grid_auto_columns": null,
            "grid_auto_flow": null,
            "grid_auto_rows": null,
            "grid_column": null,
            "grid_gap": null,
            "grid_row": null,
            "grid_template_areas": null,
            "grid_template_columns": null,
            "grid_template_rows": null,
            "height": null,
            "justify_content": null,
            "justify_items": null,
            "left": null,
            "margin": null,
            "max_height": null,
            "max_width": null,
            "min_height": null,
            "min_width": null,
            "object_fit": null,
            "object_position": null,
            "order": null,
            "overflow": null,
            "overflow_x": null,
            "overflow_y": null,
            "padding": null,
            "right": null,
            "top": null,
            "visibility": null,
            "width": null
          }
        },
        "e20585de88104099bb3e506e68316337": {
          "model_module": "@jupyter-widgets/base",
          "model_name": "LayoutModel",
          "model_module_version": "1.2.0",
          "state": {
            "_model_module": "@jupyter-widgets/base",
            "_model_module_version": "1.2.0",
            "_model_name": "LayoutModel",
            "_view_count": null,
            "_view_module": "@jupyter-widgets/base",
            "_view_module_version": "1.2.0",
            "_view_name": "LayoutView",
            "align_content": null,
            "align_items": null,
            "align_self": null,
            "border": null,
            "bottom": null,
            "display": null,
            "flex": null,
            "flex_flow": null,
            "grid_area": null,
            "grid_auto_columns": null,
            "grid_auto_flow": null,
            "grid_auto_rows": null,
            "grid_column": null,
            "grid_gap": null,
            "grid_row": null,
            "grid_template_areas": null,
            "grid_template_columns": null,
            "grid_template_rows": null,
            "height": null,
            "justify_content": null,
            "justify_items": null,
            "left": null,
            "margin": null,
            "max_height": null,
            "max_width": null,
            "min_height": null,
            "min_width": null,
            "object_fit": null,
            "object_position": null,
            "order": null,
            "overflow": null,
            "overflow_x": null,
            "overflow_y": null,
            "padding": null,
            "right": null,
            "top": null,
            "visibility": null,
            "width": null
          }
        },
        "46a11c5b7e8f451c9a577cd3512ced9a": {
          "model_module": "@jupyter-widgets/controls",
          "model_name": "DescriptionStyleModel",
          "model_module_version": "1.5.0",
          "state": {
            "_model_module": "@jupyter-widgets/controls",
            "_model_module_version": "1.5.0",
            "_model_name": "DescriptionStyleModel",
            "_view_count": null,
            "_view_module": "@jupyter-widgets/base",
            "_view_module_version": "1.2.0",
            "_view_name": "StyleView",
            "description_width": ""
          }
        },
        "61d8ea9f07724c04a6245b01fc4cdeae": {
          "model_module": "@jupyter-widgets/base",
          "model_name": "LayoutModel",
          "model_module_version": "1.2.0",
          "state": {
            "_model_module": "@jupyter-widgets/base",
            "_model_module_version": "1.2.0",
            "_model_name": "LayoutModel",
            "_view_count": null,
            "_view_module": "@jupyter-widgets/base",
            "_view_module_version": "1.2.0",
            "_view_name": "LayoutView",
            "align_content": null,
            "align_items": null,
            "align_self": null,
            "border": null,
            "bottom": null,
            "display": null,
            "flex": null,
            "flex_flow": null,
            "grid_area": null,
            "grid_auto_columns": null,
            "grid_auto_flow": null,
            "grid_auto_rows": null,
            "grid_column": null,
            "grid_gap": null,
            "grid_row": null,
            "grid_template_areas": null,
            "grid_template_columns": null,
            "grid_template_rows": null,
            "height": null,
            "justify_content": null,
            "justify_items": null,
            "left": null,
            "margin": null,
            "max_height": null,
            "max_width": null,
            "min_height": null,
            "min_width": null,
            "object_fit": null,
            "object_position": null,
            "order": null,
            "overflow": null,
            "overflow_x": null,
            "overflow_y": null,
            "padding": null,
            "right": null,
            "top": null,
            "visibility": null,
            "width": null
          }
        },
        "02fd99158b0b4c5aaf76aa6af389fed4": {
          "model_module": "@jupyter-widgets/controls",
          "model_name": "ProgressStyleModel",
          "model_module_version": "1.5.0",
          "state": {
            "_model_module": "@jupyter-widgets/controls",
            "_model_module_version": "1.5.0",
            "_model_name": "ProgressStyleModel",
            "_view_count": null,
            "_view_module": "@jupyter-widgets/base",
            "_view_module_version": "1.2.0",
            "_view_name": "StyleView",
            "bar_color": null,
            "description_width": ""
          }
        },
        "f2341ad9dc834156a38548d130c678a6": {
          "model_module": "@jupyter-widgets/base",
          "model_name": "LayoutModel",
          "model_module_version": "1.2.0",
          "state": {
            "_model_module": "@jupyter-widgets/base",
            "_model_module_version": "1.2.0",
            "_model_name": "LayoutModel",
            "_view_count": null,
            "_view_module": "@jupyter-widgets/base",
            "_view_module_version": "1.2.0",
            "_view_name": "LayoutView",
            "align_content": null,
            "align_items": null,
            "align_self": null,
            "border": null,
            "bottom": null,
            "display": null,
            "flex": null,
            "flex_flow": null,
            "grid_area": null,
            "grid_auto_columns": null,
            "grid_auto_flow": null,
            "grid_auto_rows": null,
            "grid_column": null,
            "grid_gap": null,
            "grid_row": null,
            "grid_template_areas": null,
            "grid_template_columns": null,
            "grid_template_rows": null,
            "height": null,
            "justify_content": null,
            "justify_items": null,
            "left": null,
            "margin": null,
            "max_height": null,
            "max_width": null,
            "min_height": null,
            "min_width": null,
            "object_fit": null,
            "object_position": null,
            "order": null,
            "overflow": null,
            "overflow_x": null,
            "overflow_y": null,
            "padding": null,
            "right": null,
            "top": null,
            "visibility": null,
            "width": null
          }
        },
        "037aa090fefb4b439bcf1fd5ec23a336": {
          "model_module": "@jupyter-widgets/controls",
          "model_name": "DescriptionStyleModel",
          "model_module_version": "1.5.0",
          "state": {
            "_model_module": "@jupyter-widgets/controls",
            "_model_module_version": "1.5.0",
            "_model_name": "DescriptionStyleModel",
            "_view_count": null,
            "_view_module": "@jupyter-widgets/base",
            "_view_module_version": "1.2.0",
            "_view_name": "StyleView",
            "description_width": ""
          }
        }
      }
    },
    "accelerator": "GPU",
    "gpuClass": "standard"
  },
  "cells": [
    {
      "cell_type": "code",
      "execution_count": 1,
      "metadata": {
        "id": "fFPum_0rTD1i"
      },
      "outputs": [],
      "source": [
        "import torch\n",
        "import torch.nn as nn\n",
        "\n",
        "from torch import Tensor\n",
        "from torchsummary import summary\n",
        "\n",
        "import torch.optim as optim\n",
        "from torch.optim import lr_scheduler\n",
        "\n",
        "from torchvision import datasets, transforms as T\n",
        "from torchvision.transforms import Compose, Resize, ToTensor\n",
        "\n",
        "from torch.utils.data import DataLoader\n",
        "from torch.utils.data import sampler"
      ]
    },
    {
      "cell_type": "code",
      "source": [
        "import os\n",
        "import cv2\n",
        "import copy\n",
        "import numpy as np\n",
        "import matplotlib.pyplot as plt\n",
        "\n",
        "from tqdm import tqdm"
      ],
      "metadata": {
        "id": "w2BOcn4UTkrJ"
      },
      "execution_count": 2,
      "outputs": []
    },
    {
      "cell_type": "code",
      "source": [
        "device = torch.device('cuda' if torch.cuda.is_available() else 'cpu')\n",
        "dtype = torch.long"
      ],
      "metadata": {
        "id": "on6kRijtUM7e"
      },
      "execution_count": 3,
      "outputs": []
    },
    {
      "cell_type": "code",
      "source": [
        "%pip install einops"
      ],
      "metadata": {
        "colab": {
          "base_uri": "https://localhost:8080/"
        },
        "id": "K0umjJQXUUZ9",
        "outputId": "7e2ff3ae-788c-48d9-a05e-fc9fe75e90b4"
      },
      "execution_count": 4,
      "outputs": [
        {
          "output_type": "stream",
          "name": "stdout",
          "text": [
            "Looking in indexes: https://pypi.org/simple, https://us-python.pkg.dev/colab-wheels/public/simple/\n",
            "Collecting einops\n",
            "  Downloading einops-0.6.0-py3-none-any.whl (41 kB)\n",
            "\u001b[2K     \u001b[90m━━━━━━━━━━━━━━━━━━━━━━━━━━━━━━━━━━━━━━━━\u001b[0m \u001b[32m41.6/41.6 KB\u001b[0m \u001b[31m1.4 MB/s\u001b[0m eta \u001b[36m0:00:00\u001b[0m\n",
            "\u001b[?25hInstalling collected packages: einops\n",
            "Successfully installed einops-0.6.0\n"
          ]
        }
      ]
    },
    {
      "cell_type": "markdown",
      "source": [
        "# Load MNIST Dataset"
      ],
      "metadata": {
        "id": "VeYsiBuhUj4o"
      }
    },
    {
      "cell_type": "code",
      "source": [
        "transform = T.Compose([\n",
        "    T.ToTensor()\n",
        "])\n",
        "\n",
        "dataset_train = datasets.MNIST('dataset', train=True, download=True, transform=transform)\n",
        "dataset_test = datasets.MNIST('dataset', train=False, download=True, transform=transform)"
      ],
      "metadata": {
        "colab": {
          "base_uri": "https://localhost:8080/",
          "height": 451,
          "referenced_widgets": [
            "dcbc0d407cb94a58a5923f3b21a80299",
            "5ea0d7aa6edf47d8a00d671cddb38aa2",
            "fe07da9760ff41ceaa9568f649f07a46",
            "037c67a5d6484843a54c3c4702dd3636",
            "78ab2e36934d44a088b11d29d21cb26a",
            "32b446ef28b049439f784ec3080da73d",
            "38d105f0208c485f9fbcfcb0cf77a131",
            "a7583a259acd4434bfa85cd3e712f3a3",
            "699f67c81b58451f9abe0f557bb308ef",
            "88affa041ceb4d6fad290eccbee34e20",
            "9259c864c1364139bb71d561249af451",
            "b7f7a9076159422da661bf18c4aa5d53",
            "791cde0e9f774639ae3a6621b2f0d29f",
            "f6513e9080964ce094721a5f94612a45",
            "eacbe7e90f144b2fbf40188539224837",
            "701d28c90dae4d9bbbf269a0577375e8",
            "0a1881fcb338409e9638843b456be5c2",
            "cf83c6c967884d82981a1876d4edfc5e",
            "904d6be13c69480b837333a0585cadd6",
            "be98446e049e4d8a92be393aa38a80bf",
            "48e3ac7cbd944175b5e0d3e420ef4879",
            "33d83f9f15a54c338334e5c7c3989f15",
            "37838d905c2b4edd90537d8c563782b3",
            "cfd0648cb2de414bafaac40c8f0dfde3",
            "cc4e16fcf7eb4720af6bad8b73daa08b",
            "e9f393c2a5354fc6b73c6cacdd16a43d",
            "8d72ac4a85a748df825e44f190a02f1e",
            "35c8393723a14aa68413115b7d15e673",
            "89614707977247e8b4a3b9386b221638",
            "8d729c655361485284fbb7748e47bc8b",
            "31549e8a9c614e8ca88608f403c3d8de",
            "72807ba432584410a39e815c6fa0598b",
            "a086d27bf9fd4de2a23f92e674f1f398",
            "6fc3ebb36e2743a7805ad40205a7ed12",
            "cf92833d6b3c4a21a2621c696a985f4a",
            "b2e310aee60a43788fca8b3bc6c0942e",
            "7602c0348cc945708ad38d78b6934d51",
            "19427a4b7d494228901dab15671fce81",
            "e20585de88104099bb3e506e68316337",
            "46a11c5b7e8f451c9a577cd3512ced9a",
            "61d8ea9f07724c04a6245b01fc4cdeae",
            "02fd99158b0b4c5aaf76aa6af389fed4",
            "f2341ad9dc834156a38548d130c678a6",
            "037aa090fefb4b439bcf1fd5ec23a336"
          ]
        },
        "id": "ravFVa_QUdu4",
        "outputId": "1adc8e2e-9d48-4c06-8fc5-2ad69fadcbd2"
      },
      "execution_count": 6,
      "outputs": [
        {
          "output_type": "stream",
          "name": "stdout",
          "text": [
            "Downloading http://yann.lecun.com/exdb/mnist/train-images-idx3-ubyte.gz\n",
            "Downloading http://yann.lecun.com/exdb/mnist/train-images-idx3-ubyte.gz to dataset/MNIST/raw/train-images-idx3-ubyte.gz\n"
          ]
        },
        {
          "output_type": "display_data",
          "data": {
            "text/plain": [
              "  0%|          | 0/9912422 [00:00<?, ?it/s]"
            ],
            "application/vnd.jupyter.widget-view+json": {
              "version_major": 2,
              "version_minor": 0,
              "model_id": "dcbc0d407cb94a58a5923f3b21a80299"
            }
          },
          "metadata": {}
        },
        {
          "output_type": "stream",
          "name": "stdout",
          "text": [
            "Extracting dataset/MNIST/raw/train-images-idx3-ubyte.gz to dataset/MNIST/raw\n",
            "\n",
            "Downloading http://yann.lecun.com/exdb/mnist/train-labels-idx1-ubyte.gz\n",
            "Downloading http://yann.lecun.com/exdb/mnist/train-labels-idx1-ubyte.gz to dataset/MNIST/raw/train-labels-idx1-ubyte.gz\n"
          ]
        },
        {
          "output_type": "display_data",
          "data": {
            "text/plain": [
              "  0%|          | 0/28881 [00:00<?, ?it/s]"
            ],
            "application/vnd.jupyter.widget-view+json": {
              "version_major": 2,
              "version_minor": 0,
              "model_id": "b7f7a9076159422da661bf18c4aa5d53"
            }
          },
          "metadata": {}
        },
        {
          "output_type": "stream",
          "name": "stdout",
          "text": [
            "Extracting dataset/MNIST/raw/train-labels-idx1-ubyte.gz to dataset/MNIST/raw\n",
            "\n",
            "Downloading http://yann.lecun.com/exdb/mnist/t10k-images-idx3-ubyte.gz\n",
            "Downloading http://yann.lecun.com/exdb/mnist/t10k-images-idx3-ubyte.gz to dataset/MNIST/raw/t10k-images-idx3-ubyte.gz\n"
          ]
        },
        {
          "output_type": "display_data",
          "data": {
            "text/plain": [
              "  0%|          | 0/1648877 [00:00<?, ?it/s]"
            ],
            "application/vnd.jupyter.widget-view+json": {
              "version_major": 2,
              "version_minor": 0,
              "model_id": "37838d905c2b4edd90537d8c563782b3"
            }
          },
          "metadata": {}
        },
        {
          "output_type": "stream",
          "name": "stdout",
          "text": [
            "Extracting dataset/MNIST/raw/t10k-images-idx3-ubyte.gz to dataset/MNIST/raw\n",
            "\n",
            "Downloading http://yann.lecun.com/exdb/mnist/t10k-labels-idx1-ubyte.gz\n",
            "Downloading http://yann.lecun.com/exdb/mnist/t10k-labels-idx1-ubyte.gz to dataset/MNIST/raw/t10k-labels-idx1-ubyte.gz\n"
          ]
        },
        {
          "output_type": "display_data",
          "data": {
            "text/plain": [
              "  0%|          | 0/4542 [00:00<?, ?it/s]"
            ],
            "application/vnd.jupyter.widget-view+json": {
              "version_major": 2,
              "version_minor": 0,
              "model_id": "6fc3ebb36e2743a7805ad40205a7ed12"
            }
          },
          "metadata": {}
        },
        {
          "output_type": "stream",
          "name": "stdout",
          "text": [
            "Extracting dataset/MNIST/raw/t10k-labels-idx1-ubyte.gz to dataset/MNIST/raw\n",
            "\n"
          ]
        }
      ]
    },
    {
      "cell_type": "code",
      "source": [
        "dataset_train"
      ],
      "metadata": {
        "colab": {
          "base_uri": "https://localhost:8080/"
        },
        "id": "3VO2ksnLU8nz",
        "outputId": "0b5b162d-634e-47ec-ca5c-f2e3e5ced332"
      },
      "execution_count": 7,
      "outputs": [
        {
          "output_type": "execute_result",
          "data": {
            "text/plain": [
              "Dataset MNIST\n",
              "    Number of datapoints: 60000\n",
              "    Root location: dataset\n",
              "    Split: Train\n",
              "    StandardTransform\n",
              "Transform: Compose(\n",
              "               ToTensor()\n",
              "           )"
            ]
          },
          "metadata": {},
          "execution_count": 7
        }
      ]
    },
    {
      "cell_type": "code",
      "source": [
        "x = dataset_train[0][0]\n",
        "\n",
        "plt.imshow(x[0], cmap='gray')\n",
        "x = x.unsqueeze(0)\n",
        "print(x.shape)"
      ],
      "metadata": {
        "colab": {
          "base_uri": "https://localhost:8080/",
          "height": 283
        },
        "id": "wR1SpeYuU1aB",
        "outputId": "94964c54-d1ad-43e4-8fc0-9f3d59e9aed1"
      },
      "execution_count": 8,
      "outputs": [
        {
          "output_type": "stream",
          "name": "stdout",
          "text": [
            "torch.Size([1, 1, 28, 28])\n"
          ]
        },
        {
          "output_type": "display_data",
          "data": {
            "text/plain": [
              "<Figure size 432x288 with 1 Axes>"
            ],
            "image/png": "[encoded data removed]"
          },
          "metadata": {
            "needs_background": "light"
          }
        }
      ]
    },
    {
      "cell_type": "markdown",
      "source": [
        "# Image Embedding"
      ],
      "metadata": {
        "id": "-K6rqEuntwVt"
      }
    },
    {
      "cell_type": "code",
      "source": [
        "class image_embedding(nn.Module):\n",
        "  def __init__(self, in_channels:int=3, img_size:int=224, patch_size:int=16, emb_dim:int=16*16*3):\n",
        "    super(image_embedding, self).__init__() \n",
        "\n",
        "    self.patch_size = patch_size\n",
        "    self.linear = nn.Linear(in_channels * patch_size * patch_size, emb_dim)\n",
        "\n",
        "    # BERT에서 나온 아이디어를 바탕으로 사진의 분류에 관한 정보를 담을 cls_token을 input의 맨 처음 token으로 넣는다.\n",
        "    self.cls_token = nn.Parameter(torch.randn(1, 1, emb_dim))\n",
        "\n",
        "    n_patches = (img_size * img_size) // (patch_size ** 2)\n",
        "\n",
        "    # Positional encoding 시 cls_token을 고려하여 n_patches + 1\n",
        "    self.positions = nn.Parameter(torch.randn(n_patches + 1, emb_dim))\n",
        "    \n",
        "  def forward(self, x):\n",
        "    batch_size, channels, num_w, num_h = x.shape[0], x.shape[1], x.shape[2] // self.patch_size, x.shape[3] // self.patch_size\n",
        "\n",
        "    # shape of x: (b, c, (w * p), (h * p)) => (b, c, w, p, h, p)\n",
        "    x = torch.reshape(x, (batch_size, channels, num_w, self.patch_size, num_h, self.patch_size))\n",
        "\n",
        "    # shape of x: (b, c, w, p, h, p) => (b, (w * h), (p * p * c))\n",
        "    x = x.permute(0, 2, 4, 1, 3, 5)\n",
        "\n",
        "    x = torch.reshape(x, (batch_size, (num_w * num_h), (self.patch_size * self.patch_size * channels)))\n",
        "\n",
        "    x = self.linear(x)\n",
        "    \n",
        "    c = self.cls_token.repeat(batch_size, 1, 1)\n",
        "    x = torch.cat([c, x], dim=1)\n",
        "\n",
        "    x = x + self.positions\n",
        "\n",
        "    return x\n",
        "\n",
        "# Test\n",
        "emb = image_embedding(1, 28, 4, 4*4)(x)\n",
        "\n",
        "# (7 * 7 + 1) patches\n",
        "print(emb.shape)"
      ],
      "metadata": {
        "id": "pNqFrhmxVWX0",
        "colab": {
          "base_uri": "https://localhost:8080/"
        },
        "outputId": "cd354323-1d97-4ffe-d705-4be684f868ab"
      },
      "execution_count": 9,
      "outputs": [
        {
          "output_type": "stream",
          "name": "stdout",
          "text": [
            "torch.Size([1, 50, 16])\n"
          ]
        }
      ]
    },
    {
      "cell_type": "markdown",
      "source": [
        "# Multi-Head Attention"
      ],
      "metadata": {
        "id": "O85hSdL2KarD"
      }
    },
    {
      "cell_type": "code",
      "source": [
        "class multi_head_attention(nn.Module):\n",
        "  def __init__(self, emb_dim:int=16*16*3, num_heads:int=8, dropout_ratio:float=0.2, verbose=False, **kwargs):\n",
        "    super(multi_head_attention, self).__init__()\n",
        "    \n",
        "    self.v = verbose\n",
        "\n",
        "    self.emb_dim = emb_dim\n",
        "    self.num_heads = num_heads\n",
        "    \n",
        "    # square root of the dimension of key(d_k)\n",
        "    self.scaling = (self.emb_dim // num_heads) ** -0.5\n",
        "    \n",
        "    self.query = nn.Linear(emb_dim, emb_dim)\n",
        "    self.key = nn.Linear(emb_dim, emb_dim)\n",
        "    self.value = nn.Linear(emb_dim, emb_dim)\n",
        "\n",
        "    self.att_drop = nn.Dropout(dropout_ratio)\n",
        "\n",
        "    self.linear = nn.Linear(emb_dim, emb_dim)\n",
        "\n",
        "  def forward(self, x:Tensor) -> Tensor:\n",
        "    Q = self.query(x)\n",
        "    K = self.key(x)\n",
        "    V = self.value(x)\n",
        "\n",
        "    if self.v:\n",
        "      print(Q.size(), K.size(), V.size())\n",
        "\n",
        "    batch_size, num_patches, head_dim = x.shape[0], x.shape[1], x.shape[2] // self.num_heads\n",
        "    \n",
        "    # shape of Q: (b, p, (h * d)) -> (b, h, p, d)\n",
        "    Q = torch.reshape(Q, (batch_size, num_patches, self.num_heads, head_dim))\n",
        "    Q = Q.permute(0, 2, 1, 3)\n",
        "    \n",
        "    # shape of K: (b, p, (h * d)) -> (b, h, d, p)\n",
        "    K = torch.reshape(K, (batch_size, num_patches, self.num_heads, head_dim))\n",
        "    K = K.permute(0, 2, 3, 1)\n",
        "    \n",
        "    # shape of V: (b, p, (h * d)) -> (b, h, p, d)\n",
        "    V = torch.reshape(V, (batch_size, num_patches, self.num_heads, head_dim))\n",
        "    V = V.permute(0, 2, 1, 3)\n",
        "\n",
        "\n",
        "    if self.v:\n",
        "      print(Q.size(), K.size(), V.size())\n",
        "\n",
        "    weight = torch.matmul(Q, K)\n",
        "    weight = weight * self.scaling\n",
        "    \n",
        "    if self.v:\n",
        "      print(weight.size())\n",
        "\n",
        "    attention = torch.softmax(weight, dim=-1)\n",
        "    attention = self.att_drop(attention)\n",
        "\n",
        "    if self.v:\n",
        "      print(attention.size())\n",
        "\n",
        "    context = torch.matmul(attention, V)\n",
        "    # shape of context: (b, h, p, d) => (b, p, (h * d))\n",
        "    context = context.permute(0, 2, 1, 3)\n",
        "    context = torch.reshape(context, (batch_size, num_patches, -1))\n",
        "    \n",
        "    if self.v:\n",
        "      print(context.size())\n",
        "\n",
        "    x = self.linear(context)\n",
        "    return x, attention\n",
        "\n",
        "feat, att = multi_head_attention(4*4, 4, verbose=True)(emb)\n",
        "print('shape of feat:', feat.shape, 'shape of att:', att.shape)"
      ],
      "metadata": {
        "colab": {
          "base_uri": "https://localhost:8080/"
        },
        "id": "dlzK6glIzwF5",
        "outputId": "63be29ea-ba61-4438-e612-5a28c700c2f5"
      },
      "execution_count": 10,
      "outputs": [
        {
          "output_type": "stream",
          "name": "stdout",
          "text": [
            "torch.Size([1, 50, 16]) torch.Size([1, 50, 16]) torch.Size([1, 50, 16])\n",
            "torch.Size([1, 4, 50, 4]) torch.Size([1, 4, 4, 50]) torch.Size([1, 4, 50, 4])\n",
            "torch.Size([1, 4, 50, 50])\n",
            "torch.Size([1, 4, 50, 50])\n",
            "torch.Size([1, 50, 16])\n",
            "shape of feat: torch.Size([1, 50, 16]) shape of att: torch.Size([1, 4, 50, 50])\n"
          ]
        }
      ]
    },
    {
      "cell_type": "markdown",
      "source": [
        "# MLP Block"
      ],
      "metadata": {
        "id": "p5yc2iaRRv5E"
      }
    },
    {
      "cell_type": "code",
      "source": [
        "class mlp_block(nn.Module):\n",
        "  def __init__(self, emb_dim:int=16*16*3, forward_dim:int=4, dropout_ratio:float=0.2, **kwargs):\n",
        "    super(mlp_block, self).__init__()\n",
        "\n",
        "    self.linear_1 = nn.Linear(emb_dim, forward_dim * emb_dim)\n",
        "    self.dropout = nn.Dropout(dropout_ratio)\n",
        "    self.linear_2 = nn.Linear(forward_dim * emb_dim, emb_dim)\n",
        "\n",
        "  def forward(self, x):\n",
        "    x = self.linear_1(x)\n",
        "    x = nn.functional.gelu(x)\n",
        "    x = self.dropout(x)\n",
        "    x = self.linear_2(x)\n",
        "\n",
        "    return x"
      ],
      "metadata": {
        "id": "8B0I6hpQN_ce"
      },
      "execution_count": 11,
      "outputs": []
    },
    {
      "cell_type": "markdown",
      "source": [
        "# Transformer Encoder"
      ],
      "metadata": {
        "id": "bk7At4SQTSgK"
      }
    },
    {
      "cell_type": "code",
      "source": [
        "class encoder_block(nn.Sequential):\n",
        "  def __init__(self, emb_dim:int=16*16*3, num_heads:int=8, forward_dim:int=4, dropout_ratio:float=0.2):\n",
        "    super(encoder_block, self).__init__()\n",
        "\n",
        "    self.norm_1 = nn.LayerNorm(emb_dim)\n",
        "    self.mha = multi_head_attention(emb_dim, num_heads, dropout_ratio)\n",
        "\n",
        "    self.norm_2 = nn.LayerNorm(emb_dim)\n",
        "    self.mlp = mlp_block(emb_dim, forward_dim, dropout_ratio)\n",
        "\n",
        "    self.residual_dropout = nn.Dropout(dropout_ratio)\n",
        "\n",
        "  def forward(self, x):\n",
        "    x_ = self.norm_1(x)\n",
        "    x_, attention = self.mha(x_)\n",
        "    x = x_ + self.residual_dropout(x)\n",
        "\n",
        "    x_ = self.norm_2(x)\n",
        "    x_ = self.mlp(x_)\n",
        "    x = x_ + self.residual_dropout(x)\n",
        "\n",
        "    return x, attention\n",
        "\n",
        "# Test\n",
        "feat, att = encoder_block(4*4, 2, 4)(emb)\n",
        "feat.shape, att.shape"
      ],
      "metadata": {
        "colab": {
          "base_uri": "https://localhost:8080/"
        },
        "id": "bFuOlo6oTHea",
        "outputId": "6f9ef994-99a2-46ca-ae85-1d62df003dde"
      },
      "execution_count": 12,
      "outputs": [
        {
          "output_type": "execute_result",
          "data": {
            "text/plain": [
              "(torch.Size([1, 50, 16]), torch.Size([1, 2, 50, 50]))"
            ]
          },
          "metadata": {},
          "execution_count": 12
        }
      ]
    },
    {
      "cell_type": "markdown",
      "source": [
        "# Model"
      ],
      "metadata": {
        "id": "ktEc4SmkV0oS"
      }
    },
    {
      "cell_type": "code",
      "source": [
        "class vision_transformer(nn.Module):\n",
        "  def __init__(self, in_channel:int=3, img_size:int=224, patch_size:int=16, emb_dim:int=16*16*3,\n",
        "               n_enc_layers:int=15, num_heads:int=3, forward_dim:int=4, dropout_ratio:float=0.2,\n",
        "               n_classes:int=1000):\n",
        "    \n",
        "    super(vision_transformer, self).__init__()\n",
        "    self.image_emb = image_embedding(in_channel, img_size, patch_size, emb_dim)\n",
        "    self.transformer_encoders = nn.ModuleList([encoder_block(emb_dim, num_heads, forward_dim, dropout_ratio) for _ in range(n_enc_layers)])\n",
        "    \n",
        "    self.normalization = nn.LayerNorm(emb_dim)\n",
        "    self.classification_head = nn.Linear(emb_dim, n_classes)\n",
        "\n",
        "  def forward(self, x):\n",
        "    x = self.image_emb(x)\n",
        "\n",
        "    attentions = []\n",
        "    for encoder in self.transformer_encoders:\n",
        "      x, att = encoder(x)\n",
        "      attentions.append(att)\n",
        "\n",
        "    # shape of x: (b, p, e)\n",
        "    x = torch.mean(x, dim=1)\n",
        "    x = self.normalization(x)\n",
        "    x = self.classification_head(x)\n",
        "\n",
        "    return x, attentions\n",
        "\n",
        "# Test\n",
        "y, att = vision_transformer(1, 28, 4, 4*4, 3, 2, 4, 0.2, 10)(x)\n",
        "y.shape, att[0].shape"
      ],
      "metadata": {
        "colab": {
          "base_uri": "https://localhost:8080/"
        },
        "id": "D_RUYMViVSX8",
        "outputId": "28696ca0-04d4-4d14-83aa-bd446247d249"
      },
      "execution_count": 13,
      "outputs": [
        {
          "output_type": "execute_result",
          "data": {
            "text/plain": [
              "(torch.Size([1, 10]), torch.Size([1, 2, 50, 50]))"
            ]
          },
          "metadata": {},
          "execution_count": 13
        }
      ]
    },
    {
      "cell_type": "markdown",
      "source": [
        "# Train"
      ],
      "metadata": {
        "id": "9pihxqAvY4TX"
      }
    },
    {
      "cell_type": "code",
      "source": [
        "model = vision_transformer(1, 28, 4, 4*4, 3, 2, 4, 0.2, 10)\n",
        "model.to(device)\n",
        "\n",
        "num_epochs = 10\n",
        "criterion = nn.CrossEntropyLoss()\n",
        "optimizer = optim.Adam(model.parameters(), lr=1e-3)\n",
        "\n",
        "batch_size = 64\n",
        "dataloaders_train = DataLoader(dataset_train, batch_size=batch_size, sampler=sampler.SubsetRandomSampler(range(0, len(dataset_train) * 4 // 5)))\n",
        "dataloaders_valid = DataLoader(dataset_train, batch_size=batch_size, sampler=sampler.SubsetRandomSampler(range(len(dataset_train) * 4 // 5, len(dataset_train))))\n",
        "dataloaders_test = DataLoader(dataset_test, batch_size=batch_size)"
      ],
      "metadata": {
        "id": "ZdX5nM43YlIK"
      },
      "execution_count": 18,
      "outputs": []
    },
    {
      "cell_type": "code",
      "source": [
        "for epoch in range(num_epochs):\n",
        "  print('--- Epoch {} ---'.format(epoch))\n",
        "\n",
        "  model.train()\n",
        "  training_loss, training_acc = 0.0, 0.0\n",
        "\n",
        "  num_samples = 0\n",
        "\n",
        "  for idx, (inputs, labels) in enumerate(dataloaders_train):\n",
        "    inputs = inputs.to(device)\n",
        "    labels = labels.to(device)\n",
        "    num_samples += inputs.shape[0]\n",
        "\n",
        "    optimizer.zero_grad()\n",
        "\n",
        "    with torch.set_grad_enabled(True):\n",
        "      outputs, attentions = model(inputs)\n",
        "      max_val, preds = torch.max(outputs, dim=-1)\n",
        "      loss = criterion(outputs, labels)\n",
        "\n",
        "      loss.backward()\n",
        "      optimizer.step()\n",
        "\n",
        "      training_loss += loss.item() * inputs.shape[0]\n",
        "      training_acc += torch.sum(preds == labels.data)\n",
        "\n",
        "    \n",
        "  # training_acc /= (idx + 1) * batch_size\n",
        "  training_acc /= num_samples\n",
        "\n",
        "  print('{} Loss: {:.4f} | Acc: {:.4f}'.format('train', training_loss, training_acc))\n",
        "\n",
        "  model.eval()\n",
        "\n",
        "  training_acc = 0.0\n",
        "  num_samples = 0\n",
        "\n",
        "  for idx, (inputs, labels) in enumerate(dataloaders_valid):\n",
        "    inputs = inputs.to(device)\n",
        "    labels = labels.to(device)\n",
        "    num_samples += inputs.shape[0]\n",
        "\n",
        "    with torch.set_grad_enabled(False):\n",
        "      outputs, _ = model(inputs)\n",
        "      max_val, preds = torch.max(outputs, dim=-1)\n",
        "\n",
        "      training_acc += torch.sum(preds == labels.data)\n",
        "\n",
        "  training_acc /= num_samples\n",
        "  print('{} Acc: {:.4f}'.format('valid', training_acc))"
      ],
      "metadata": {
        "colab": {
          "base_uri": "https://localhost:8080/"
        },
        "id": "GWhRVr8PaiGs",
        "outputId": "c88ba224-7a02-496f-8b18-0a6dce393622"
      },
      "execution_count": 19,
      "outputs": [
        {
          "output_type": "stream",
          "name": "stdout",
          "text": [
            "--- Epoch 0 ---\n",
            "train Loss: 78786.2411 | Acc: 0.3921\n",
            "valid Acc: 0.6788\n",
            "--- Epoch 1 ---\n",
            "train Loss: 37441.2483 | Acc: 0.7433\n",
            "valid Acc: 0.8151\n",
            "--- Epoch 2 ---\n",
            "train Loss: 27266.6384 | Acc: 0.8221\n",
            "valid Acc: 0.8705\n",
            "--- Epoch 3 ---\n",
            "train Loss: 23380.0846 | Acc: 0.8481\n",
            "valid Acc: 0.8885\n",
            "--- Epoch 4 ---\n",
            "train Loss: 21146.5052 | Acc: 0.8646\n",
            "valid Acc: 0.8931\n",
            "--- Epoch 5 ---\n",
            "train Loss: 19709.5432 | Acc: 0.8720\n",
            "valid Acc: 0.9010\n",
            "--- Epoch 6 ---\n",
            "train Loss: 18638.0017 | Acc: 0.8769\n",
            "valid Acc: 0.9022\n",
            "--- Epoch 7 ---\n",
            "train Loss: 17610.1768 | Acc: 0.8847\n",
            "valid Acc: 0.9019\n",
            "--- Epoch 8 ---\n",
            "train Loss: 16800.9080 | Acc: 0.8894\n",
            "valid Acc: 0.9103\n",
            "--- Epoch 9 ---\n",
            "train Loss: 16191.1251 | Acc: 0.8941\n",
            "valid Acc: 0.9149\n"
          ]
        }
      ]
    },
    {
      "cell_type": "code",
      "source": [
        "model.eval()\n",
        "test_acc = 0.0\n",
        "\n",
        "num_samples = 0\n",
        "\n",
        "for idx, (inputs, labels) in enumerate(dataloaders_test):\n",
        "  inputs = inputs.to(device)\n",
        "  labels = labels.to(device)\n",
        "  num_samples += inputs.shape[0]\n",
        "\n",
        "  with torch.set_grad_enabled(True):\n",
        "    outputs, attentions = model(inputs)\n",
        "    max_val, preds = torch.max(outputs, dim=-1)\n",
        "    \n",
        "    test_acc += torch.sum(preds == labels.data)\n",
        "\n",
        "test_acc /= num_samples\n",
        "print('{} Acc: {:.4f}\\n'.format('test', test_acc))"
      ],
      "metadata": {
        "colab": {
          "base_uri": "https://localhost:8080/"
        },
        "id": "Vaf9Y3ZLeYUZ",
        "outputId": "21bf1c32-33ac-4452-c586-5ff2bd33a46a"
      },
      "execution_count": 21,
      "outputs": [
        {
          "output_type": "stream",
          "name": "stdout",
          "text": [
            "test Acc: 0.9149\n",
            "\n"
          ]
        }
      ]
    },
    {
      "cell_type": "markdown",
      "source": [
        "# Visualization of Attention\n",
        "\n",
        "https://github.com/jeonsworld/ViT-pytorch/blob/main/visualize_attention_map.ipynb"
      ],
      "metadata": {
        "id": "3OWwA7Gsio50"
      }
    },
    {
      "cell_type": "code",
      "source": [
        "indices = np.random.choice(range(len(dataset_test.data)), 5, False)\n",
        "\n",
        "for idx in indices:\n",
        "  img = dataset_test.data[idx]\n",
        "  img = 255 - img\n",
        "  x = img.unsqueeze(0).unsqueeze(1).to(device, torch.float)\n",
        "  print('shape of input image:', x.shape)\n",
        "\n",
        "  _, attentions = model(x)\n",
        "  print('number of encoders:', len(attentions))\n",
        "  print('shape of attention:', attentions[0].shape)\n",
        "  \n",
        "  # shape of att_mat: 3 * (b, h, len1, len2) => (e, b, h, len1, len2) => (e, h, len1, len2)\n",
        "  att_mat = torch.stack(attentions).squeeze(1) \n",
        "  att_mat = att_mat.detach().cpu()\n",
        "  \n",
        "  # shape of att_mat: (e, h, len1, len2) => (e, len1, len2)\n",
        "  att_mat = torch.mean(att_mat, dim=1)\n",
        "\n",
        "  residual_att = torch.eye(att_mat.size(1))\n",
        "  aug_att_mat = att_mat + residual_att\n",
        "  aug_att_mat = aug_att_mat / aug_att_mat.sum(dim=-1).unsqueeze(-1)\n",
        "\n",
        "  joint_attentions = torch.zeros(aug_att_mat.size())\n",
        "  joint_attentions[0] = aug_att_mat[0]\n",
        "\n",
        "  for n in range(1, aug_att_mat.size(0)):\n",
        "    joint_attentions[n] = torch.matmul(aug_att_mat[n], joint_attentions[n-1])\n",
        "\n",
        "  v = joint_attentions[-1]\n",
        "  grid_size = int(np.sqrt(aug_att_mat.size(-1)))\n",
        "  mask = v[0, 1:].reshape(grid_size, grid_size).detach().numpy()\n",
        "  mask = cv2.resize(mask / mask.max(), (img.shape[1], img.shape[0]))[..., None]\n",
        "  mask = mask.squeeze()\n",
        "  result = (mask * img.numpy()).astype(\"uint8\")\n",
        "\n",
        "  # plotting\n",
        "  fig, (ax1, ax2, ax3) = plt.subplots(ncols=3, figsize=(9, 3)) \n",
        "  ax1.set_title('Original')\n",
        "  ax2.set_title('Mask')\n",
        "  ax3.set_title('Attention Map')\n",
        "  _ = ax1.imshow(img)\n",
        "  _ = ax2.imshow(mask)\n",
        "  _ = ax3.imshow(result)"
      ],
      "metadata": {
        "colab": {
          "base_uri": "https://localhost:8080/",
          "height": 1000
        },
        "id": "ZWnjR5fpdcZ-",
        "outputId": "b0384f8f-f11e-4afe-ea69-d6269da340cd"
      },
      "execution_count": 39,
      "outputs": [
        {
          "output_type": "stream",
          "name": "stdout",
          "text": [
            "shape of input image: torch.Size([1, 1, 28, 28])\n",
            "number of encoders: 3\n",
            "shape of attention: torch.Size([1, 2, 50, 50])\n",
            "shape of input image: torch.Size([1, 1, 28, 28])\n",
            "number of encoders: 3\n",
            "shape of attention: torch.Size([1, 2, 50, 50])\n",
            "shape of input image: torch.Size([1, 1, 28, 28])\n",
            "number of encoders: 3\n",
            "shape of attention: torch.Size([1, 2, 50, 50])\n",
            "shape of input image: torch.Size([1, 1, 28, 28])\n",
            "number of encoders: 3\n",
            "shape of attention: torch.Size([1, 2, 50, 50])\n",
            "shape of input image: torch.Size([1, 1, 28, 28])\n",
            "number of encoders: 3\n",
            "shape of attention: torch.Size([1, 2, 50, 50])\n"
          ]
        },
        {
          "output_type": "display_data",
          "data": {
            "text/plain": [
              "<Figure size 648x216 with 3 Axes>"
            ],
            "image/png": "[encoded data removed]"
          },
          "metadata": {
            "needs_background": "light"
          }
        },
        {
          "output_type": "display_data",
          "data": {
            "text/plain": [
              "<Figure size 648x216 with 3 Axes>"
            ],
            "image/png": "[encoded data removed]"
          },
          "metadata": {
            "needs_background": "light"
          }
        },
        {
          "output_type": "display_data",
          "data": {
            "text/plain": [
              "<Figure size 648x216 with 3 Axes>"
            ],
            "image/png": "[encoded data removed]"
          },
          "metadata": {
            "needs_background": "light"
          }
        },
        {
          "output_type": "display_data",
          "data": {
            "text/plain": [
              "<Figure size 648x216 with 3 Axes>"
            ],
            "image/png": "[encoded data removed]"
          },
          "metadata": {
            "needs_background": "light"
          }
        },
        {
          "output_type": "display_data",
          "data": {
            "text/plain": [
              "<Figure size 648x216 with 3 Axes>"
            ],
            "image/png": "[encoded data removed]"
          },
          "metadata": {
            "needs_background": "light"
          }
        }
      ]
    },
    {
      "cell_type": "code",
      "source": [],
      "metadata": {
        "id": "uN2fsyOhfpLp"
      },
      "execution_count": null,
      "outputs": []
    }
  ]
}